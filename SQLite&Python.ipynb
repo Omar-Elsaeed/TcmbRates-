{
 "cells": [
  {
   "cell_type": "code",
   "execution_count": 1,
   "id": "a6b79554",
   "metadata": {},
   "outputs": [],
   "source": [
    "### import libraries\n",
    "import numpy as np \n",
    "import pandas as pd\n",
    "import matplotlib as plt\n",
    "import sqlite3"
   ]
  },
  {
   "cell_type": "code",
   "execution_count": 21,
   "id": "bf619f41",
   "metadata": {},
   "outputs": [],
   "source": [
    "connection = sqlite3.connect('MyNewData.db')"
   ]
  },
  {
   "cell_type": "code",
   "execution_count": 22,
   "id": "66e5d61d",
   "metadata": {},
   "outputs": [],
   "source": [
    "cursor = connection.cursor()"
   ]
  },
  {
   "cell_type": "code",
   "execution_count": 14,
   "id": "7d1fb98e",
   "metadata": {},
   "outputs": [],
   "source": [
    "#SQLITE DATA TYPES\n",
    "\n",
    "\n",
    "#INTEGER\n",
    "#REAL\n",
    "#TEXT\n",
    "#BLOBS (BINARY LARGE OBJECTS)\n",
    "#NULL"
   ]
  },
  {
   "cell_type": "code",
   "execution_count": null,
   "id": "4eb39ce9",
   "metadata": {},
   "outputs": [],
   "source": [
    "#Creat table......\n",
    "######################################"
   ]
  },
  {
   "cell_type": "code",
   "execution_count": 23,
   "id": "d2bde636",
   "metadata": {},
   "outputs": [
    {
     "data": {
      "text/plain": [
       "<sqlite3.Cursor at 0x2f5d6506f10>"
      ]
     },
     "execution_count": 23,
     "metadata": {},
     "output_type": "execute_result"
    }
   ],
   "source": [
    "cursor.execute('CREATE TABLE MONEY(name TEXT,value REAL,transfare REAL)')"
   ]
  },
  {
   "cell_type": "code",
   "execution_count": 24,
   "id": "6e254e2a",
   "metadata": {},
   "outputs": [],
   "source": [
    "connection.commit()"
   ]
  },
  {
   "cell_type": "code",
   "execution_count": null,
   "id": "7288642d",
   "metadata": {},
   "outputs": [],
   "source": [
    "#Insert Values in this table.........\n",
    "################################"
   ]
  },
  {
   "cell_type": "code",
   "execution_count": 26,
   "id": "13df5299",
   "metadata": {},
   "outputs": [
    {
     "data": {
      "text/plain": [
       "<sqlite3.Cursor at 0x2f5d6506f10>"
      ]
     },
     "execution_count": 26,
     "metadata": {},
     "output_type": "execute_result"
    }
   ],
   "source": [
    "cursor.execute(\"INSERT INTO MONEY VALUES('USD', '1.83','1.79')\")"
   ]
  },
  {
   "cell_type": "code",
   "execution_count": 27,
   "id": "a7faf843",
   "metadata": {},
   "outputs": [],
   "source": [
    "connection.commit()"
   ]
  },
  {
   "cell_type": "code",
   "execution_count": 28,
   "id": "29cdd102",
   "metadata": {},
   "outputs": [
    {
     "data": {
      "text/plain": [
       "<sqlite3.Cursor at 0x2f5d6506f10>"
      ]
     },
     "execution_count": 28,
     "metadata": {},
     "output_type": "execute_result"
    }
   ],
   "source": [
    "cursor.execute(\"INSERT INTO MONEY VALUES('Euro', '1.65', '1.61')\")"
   ]
  },
  {
   "cell_type": "code",
   "execution_count": 29,
   "id": "ee66f4f7",
   "metadata": {},
   "outputs": [],
   "source": [
    "connection.commit()"
   ]
  },
  {
   "cell_type": "code",
   "execution_count": null,
   "id": "3bf0231e",
   "metadata": {},
   "outputs": [],
   "source": [
    "# To make a select Quiery...\n",
    "##############################\n",
    "#inthis Query ---cursor.fetchall()-- you can use \"fetchone\" or \"fetchall\""
   ]
  },
  {
   "cell_type": "code",
   "execution_count": 35,
   "id": "6b094678",
   "metadata": {},
   "outputs": [
    {
     "data": {
      "text/plain": [
       "<sqlite3.Cursor at 0x2f5d6506f10>"
      ]
     },
     "execution_count": 35,
     "metadata": {},
     "output_type": "execute_result"
    }
   ],
   "source": [
    "cursor.execute(\"SELECT * FROM MONEY\")"
   ]
  },
  {
   "cell_type": "code",
   "execution_count": 36,
   "id": "de4cbdf0",
   "metadata": {},
   "outputs": [
    {
     "data": {
      "text/plain": [
       "('USD', 1.83, 1.79)"
      ]
     },
     "execution_count": 36,
     "metadata": {},
     "output_type": "execute_result"
    }
   ],
   "source": [
    "cursor.fetchone()"
   ]
  },
  {
   "cell_type": "code",
   "execution_count": null,
   "id": "d32b646a",
   "metadata": {},
   "outputs": [],
   "source": [
    "##\n",
    "#forloop"
   ]
  },
  {
   "cell_type": "code",
   "execution_count": 37,
   "id": "5308e008",
   "metadata": {},
   "outputs": [
    {
     "name": "stdout",
     "output_type": "stream",
     "text": [
      "('USD', 1.83, 1.79)\n",
      "('Euro', 1.65, 1.61)\n"
     ]
    }
   ],
   "source": [
    "for i in cursor.execute(\"SELECT * FROM MONEY\"):\n",
    "    print (i)"
   ]
  },
  {
   "cell_type": "code",
   "execution_count": null,
   "id": "e5d7d327",
   "metadata": {},
   "outputs": [],
   "source": []
  },
  {
   "cell_type": "code",
   "execution_count": null,
   "id": "3e9be6e9",
   "metadata": {},
   "outputs": [],
   "source": [
    "#doing inserting by variabels"
   ]
  },
  {
   "cell_type": "code",
   "execution_count": 43,
   "id": "3b496ef6",
   "metadata": {},
   "outputs": [],
   "source": [
    "name = 'AUD'\n",
    "value = 0.65\n",
    "transfare = 0.56"
   ]
  },
  {
   "cell_type": "code",
   "execution_count": 44,
   "id": "da016fe2",
   "metadata": {},
   "outputs": [
    {
     "data": {
      "text/plain": [
       "<sqlite3.Cursor at 0x2f5d6506f10>"
      ]
     },
     "execution_count": 44,
     "metadata": {},
     "output_type": "execute_result"
    }
   ],
   "source": [
    "cursor.execute(\"INSERT INTO MONEY VALUES(?, ?,?)\", (name,value,transfare))"
   ]
  },
  {
   "cell_type": "code",
   "execution_count": 47,
   "id": "6487340d",
   "metadata": {},
   "outputs": [],
   "source": [
    "connection.commit()"
   ]
  },
  {
   "cell_type": "code",
   "execution_count": 50,
   "id": "23efdc73",
   "metadata": {},
   "outputs": [
    {
     "name": "stdout",
     "output_type": "stream",
     "text": [
      "Provide a name: EGP\n",
      "provide a value: 0.02\n",
      "Provide a transfare: 0.21\n"
     ]
    }
   ],
   "source": [
    "name = input('Provide a name: ')\n",
    "value = float(input('provide a value: '))\n",
    "transfare = float(input('Provide a transfare: '))"
   ]
  },
  {
   "cell_type": "code",
   "execution_count": 51,
   "id": "a1487e70",
   "metadata": {},
   "outputs": [
    {
     "data": {
      "text/plain": [
       "<sqlite3.Cursor at 0x2f5d6506f10>"
      ]
     },
     "execution_count": 51,
     "metadata": {},
     "output_type": "execute_result"
    }
   ],
   "source": [
    "cursor.execute(\"INSERT INTO MONEY VALUES(?, ?,?)\", (name,value,transfare))"
   ]
  },
  {
   "cell_type": "code",
   "execution_count": 52,
   "id": "b8ec4086",
   "metadata": {},
   "outputs": [
    {
     "data": {
      "text/plain": [
       "<sqlite3.Cursor at 0x2f5d6506f10>"
      ]
     },
     "execution_count": 52,
     "metadata": {},
     "output_type": "execute_result"
    }
   ],
   "source": [
    "cursor.execute(\"SELECT * FROM MONEY\")"
   ]
  },
  {
   "cell_type": "code",
   "execution_count": 59,
   "id": "9e16d146",
   "metadata": {},
   "outputs": [
    {
     "data": {
      "text/plain": [
       "[]"
      ]
     },
     "execution_count": 59,
     "metadata": {},
     "output_type": "execute_result"
    }
   ],
   "source": [
    "cursor.fetchall()"
   ]
  },
  {
   "cell_type": "code",
   "execution_count": null,
   "id": "fc430581",
   "metadata": {},
   "outputs": [],
   "source": []
  },
  {
   "cell_type": "code",
   "execution_count": null,
   "id": "be542d8d",
   "metadata": {},
   "outputs": [],
   "source": [
    "##Make an in Class"
   ]
  },
  {
   "cell_type": "code",
   "execution_count": 60,
   "id": "4d1db27f",
   "metadata": {},
   "outputs": [],
   "source": [
    "class SQLinput:\n",
    "    def __init__(self,name,value,transfare):\n",
    "        self.name = name\n",
    "        self.value = value\n",
    "        self.transfare = transfare"
   ]
  },
  {
   "cell_type": "code",
   "execution_count": 61,
   "id": "30425f4b",
   "metadata": {},
   "outputs": [],
   "source": [
    "inst = SQLinput('DNK', 5.67, 6.21)"
   ]
  },
  {
   "cell_type": "code",
   "execution_count": 63,
   "id": "3ffdef01",
   "metadata": {},
   "outputs": [],
   "source": [
    "name,value,transfare = inst.name, inst.value, inst.transfare"
   ]
  },
  {
   "cell_type": "code",
   "execution_count": 64,
   "id": "659ea4e6",
   "metadata": {},
   "outputs": [
    {
     "data": {
      "text/plain": [
       "<sqlite3.Cursor at 0x2f5d6506f10>"
      ]
     },
     "execution_count": 64,
     "metadata": {},
     "output_type": "execute_result"
    }
   ],
   "source": [
    "cursor.execute(\"INSERT INTO MONEY VALUES(?, ?,?)\", (name,value,transfare))"
   ]
  },
  {
   "cell_type": "code",
   "execution_count": 65,
   "id": "ec0184b1",
   "metadata": {},
   "outputs": [
    {
     "data": {
      "text/plain": [
       "<sqlite3.Cursor at 0x2f5d6506f10>"
      ]
     },
     "execution_count": 65,
     "metadata": {},
     "output_type": "execute_result"
    }
   ],
   "source": [
    "cursor.execute(\"SELECT * FROM MONEY\")"
   ]
  },
  {
   "cell_type": "code",
   "execution_count": 66,
   "id": "9f254fc2",
   "metadata": {},
   "outputs": [],
   "source": [
    "connection.commit()"
   ]
  },
  {
   "cell_type": "code",
   "execution_count": 67,
   "id": "fb2f2932",
   "metadata": {},
   "outputs": [
    {
     "data": {
      "text/plain": [
       "[('USD', 1.83, 1.79),\n",
       " ('Euro', 1.65, 1.61),\n",
       " ('AUD', 0.65, 0.56),\n",
       " ('EGP', 0.02, 0.21),\n",
       " ('DNK', 5.67, 6.21)]"
      ]
     },
     "execution_count": 67,
     "metadata": {},
     "output_type": "execute_result"
    }
   ],
   "source": [
    "cursor.fetchall()"
   ]
  },
  {
   "cell_type": "code",
   "execution_count": null,
   "id": "17ad8bf3",
   "metadata": {},
   "outputs": [],
   "source": []
  },
  {
   "cell_type": "code",
   "execution_count": null,
   "id": "dccddc8c",
   "metadata": {},
   "outputs": [],
   "source": []
  }
 ],
 "metadata": {
  "kernelspec": {
   "display_name": "Python 3 (ipykernel)",
   "language": "python",
   "name": "python3"
  },
  "language_info": {
   "codemirror_mode": {
    "name": "ipython",
    "version": 3
   },
   "file_extension": ".py",
   "mimetype": "text/x-python",
   "name": "python",
   "nbconvert_exporter": "python",
   "pygments_lexer": "ipython3",
   "version": "3.9.12"
  }
 },
 "nbformat": 4,
 "nbformat_minor": 5
}
