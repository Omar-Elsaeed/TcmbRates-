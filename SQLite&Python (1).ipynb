{
 "cells": [
  {
   "cell_type": "code",
   "execution_count": 1,
   "id": "dd939304",
   "metadata": {},
   "outputs": [],
   "source": [
    "### import libraries\n",
    "import numpy as np \n",
    "import pandas as pd\n",
    "import matplotlib as plt\n",
    "import sqlite3"
   ]
  },
  {
   "cell_type": "code",
   "execution_count": 68,
   "id": "5dec744e",
   "metadata": {},
   "outputs": [],
   "source": [
    "connection = sqlite3.connect('TcmbRatesContext.db')"
   ]
  },
  {
   "cell_type": "code",
   "execution_count": 69,
   "id": "a9a5115d",
   "metadata": {},
   "outputs": [],
   "source": [
    "cursor = connection.cursor()"
   ]
  },
  {
   "cell_type": "code",
   "execution_count": 70,
   "id": "dc086b10",
   "metadata": {},
   "outputs": [],
   "source": [
    "#SQLITE DATA TYPES\n",
    "\n",
    "\n",
    "#INTEGER\n",
    "#REAL\n",
    "#TEXT\n",
    "#BLOBS (BINARY LARGE OBJECTS)\n",
    "#NULL"
   ]
  },
  {
   "cell_type": "code",
   "execution_count": 71,
   "id": "8bfa0888",
   "metadata": {},
   "outputs": [],
   "source": [
    "#Creat table......\n",
    "######################################"
   ]
  },
  {
   "cell_type": "code",
   "execution_count": 100,
   "id": "d1d094e5",
   "metadata": {},
   "outputs": [
    {
     "data": {
      "text/plain": [
       "<sqlite3.Cursor at 0x2f5d66f2ab0>"
      ]
     },
     "execution_count": 100,
     "metadata": {},
     "output_type": "execute_result"
    }
   ],
   "source": [
    "cursor.execute('CREATE TABLE Valuation(name TEXT,value REAL,transfare REAL)')"
   ]
  },
  {
   "cell_type": "code",
   "execution_count": 101,
   "id": "e7c94a05",
   "metadata": {},
   "outputs": [],
   "source": [
    "connection.commit()"
   ]
  },
  {
   "cell_type": "code",
   "execution_count": 102,
   "id": "3766eebd",
   "metadata": {},
   "outputs": [],
   "source": [
    "#Insert Values in this table.........\n",
    "################################"
   ]
  },
  {
   "cell_type": "code",
   "execution_count": 103,
   "id": "7ea27bdd",
   "metadata": {},
   "outputs": [
    {
     "data": {
      "text/plain": [
       "<sqlite3.Cursor at 0x2f5d66f2ab0>"
      ]
     },
     "execution_count": 103,
     "metadata": {},
     "output_type": "execute_result"
    }
   ],
   "source": [
    "cursor.execute(\"INSERT INTO MONEY VALUES('USD', '1.83','1.79')\")"
   ]
  },
  {
   "cell_type": "code",
   "execution_count": 104,
   "id": "513f3b7b",
   "metadata": {},
   "outputs": [],
   "source": [
    "connection.commit()"
   ]
  },
  {
   "cell_type": "code",
   "execution_count": 105,
   "id": "61393984",
   "metadata": {},
   "outputs": [
    {
     "data": {
      "text/plain": [
       "<sqlite3.Cursor at 0x2f5d66f2ab0>"
      ]
     },
     "execution_count": 105,
     "metadata": {},
     "output_type": "execute_result"
    }
   ],
   "source": [
    "cursor.execute(\"INSERT INTO MONEY VALUES('Euro', '1.65', '1.61')\")"
   ]
  },
  {
   "cell_type": "code",
   "execution_count": 106,
   "id": "bbb1db22",
   "metadata": {},
   "outputs": [],
   "source": [
    "connection.commit()"
   ]
  },
  {
   "cell_type": "code",
   "execution_count": 107,
   "id": "0772320b",
   "metadata": {},
   "outputs": [],
   "source": [
    "# To make a select Quiery...\n",
    "##############################\n",
    "#inthis Query ---cursor.fetchall()-- you can use \"fetchone\" or \"fetchall\""
   ]
  },
  {
   "cell_type": "code",
   "execution_count": 108,
   "id": "d0294819",
   "metadata": {},
   "outputs": [
    {
     "data": {
      "text/plain": [
       "<sqlite3.Cursor at 0x2f5d66f2ab0>"
      ]
     },
     "execution_count": 108,
     "metadata": {},
     "output_type": "execute_result"
    }
   ],
   "source": [
    "cursor.execute(\"SELECT * FROM MONEY\")"
   ]
  },
  {
   "cell_type": "code",
   "execution_count": 109,
   "id": "1a1240f8",
   "metadata": {},
   "outputs": [
    {
     "data": {
      "text/plain": [
       "('USD', 1.83, 1.79)"
      ]
     },
     "execution_count": 109,
     "metadata": {},
     "output_type": "execute_result"
    }
   ],
   "source": [
    "cursor.fetchone()"
   ]
  },
  {
   "cell_type": "code",
   "execution_count": 110,
   "id": "f51dc22c",
   "metadata": {},
   "outputs": [],
   "source": [
    "##\n",
    "#forloop"
   ]
  },
  {
   "cell_type": "code",
   "execution_count": 111,
   "id": "5809c699",
   "metadata": {},
   "outputs": [
    {
     "name": "stdout",
     "output_type": "stream",
     "text": [
      "('USD', 1.83, 1.79)\n",
      "('Euro', 1.65, 1.61)\n",
      "('AUD', 0.65, 0.56)\n",
      "('DBR', 3.65, 2.57)\n",
      "('DNK', 5.67, 6.21)\n",
      "('USD', 1.83, 1.79)\n",
      "('Euro', 1.65, 1.61)\n"
     ]
    }
   ],
   "source": [
    "for i in cursor.execute(\"SELECT * FROM MONEY\"):\n",
    "    print (i)"
   ]
  },
  {
   "cell_type": "code",
   "execution_count": null,
   "id": "d8ce8263",
   "metadata": {},
   "outputs": [],
   "source": []
  },
  {
   "cell_type": "code",
   "execution_count": 112,
   "id": "a92483fb",
   "metadata": {},
   "outputs": [],
   "source": [
    "#doing inserting by variabels"
   ]
  },
  {
   "cell_type": "code",
   "execution_count": 113,
   "id": "37f1841f",
   "metadata": {},
   "outputs": [],
   "source": [
    "name = 'AUD'\n",
    "value = 0.65\n",
    "transfare = 0.56"
   ]
  },
  {
   "cell_type": "code",
   "execution_count": 114,
   "id": "e661e5a9",
   "metadata": {},
   "outputs": [
    {
     "data": {
      "text/plain": [
       "<sqlite3.Cursor at 0x2f5d66f2ab0>"
      ]
     },
     "execution_count": 114,
     "metadata": {},
     "output_type": "execute_result"
    }
   ],
   "source": [
    "cursor.execute(\"INSERT INTO MONEY VALUES(?, ?,?)\", (name,value,transfare))"
   ]
  },
  {
   "cell_type": "code",
   "execution_count": 115,
   "id": "830fa951",
   "metadata": {},
   "outputs": [],
   "source": [
    "connection.commit()"
   ]
  },
  {
   "cell_type": "code",
   "execution_count": 116,
   "id": "bb88f1ec",
   "metadata": {},
   "outputs": [
    {
     "name": "stdout",
     "output_type": "stream",
     "text": [
      "Provide a name: DBR\n",
      "provide a value: 3.56\n",
      "Provide a transfare: 2.65\n"
     ]
    }
   ],
   "source": [
    "name = input('Provide a name: ')\n",
    "value = float(input('provide a value: '))\n",
    "transfare = float(input('Provide a transfare: '))"
   ]
  },
  {
   "cell_type": "code",
   "execution_count": 117,
   "id": "898f098b",
   "metadata": {},
   "outputs": [
    {
     "data": {
      "text/plain": [
       "<sqlite3.Cursor at 0x2f5d66f2ab0>"
      ]
     },
     "execution_count": 117,
     "metadata": {},
     "output_type": "execute_result"
    }
   ],
   "source": [
    "cursor.execute(\"INSERT INTO MONEY VALUES(?, ?,?)\", (name,value,transfare))"
   ]
  },
  {
   "cell_type": "code",
   "execution_count": 118,
   "id": "85d286ba",
   "metadata": {},
   "outputs": [
    {
     "data": {
      "text/plain": [
       "<sqlite3.Cursor at 0x2f5d66f2ab0>"
      ]
     },
     "execution_count": 118,
     "metadata": {},
     "output_type": "execute_result"
    }
   ],
   "source": [
    "cursor.execute(\"SELECT * FROM MONEY\")"
   ]
  },
  {
   "cell_type": "code",
   "execution_count": 119,
   "id": "c5d35577",
   "metadata": {},
   "outputs": [
    {
     "data": {
      "text/plain": [
       "[('USD', 1.83, 1.79),\n",
       " ('Euro', 1.65, 1.61),\n",
       " ('AUD', 0.65, 0.56),\n",
       " ('DBR', 3.65, 2.57),\n",
       " ('DNK', 5.67, 6.21),\n",
       " ('USD', 1.83, 1.79),\n",
       " ('Euro', 1.65, 1.61),\n",
       " ('AUD', 0.65, 0.56),\n",
       " ('DBR', 3.56, 2.65)]"
      ]
     },
     "execution_count": 119,
     "metadata": {},
     "output_type": "execute_result"
    }
   ],
   "source": [
    "cursor.fetchall()"
   ]
  },
  {
   "cell_type": "code",
   "execution_count": null,
   "id": "ad049550",
   "metadata": {},
   "outputs": [],
   "source": []
  },
  {
   "cell_type": "code",
   "execution_count": 120,
   "id": "b4065073",
   "metadata": {},
   "outputs": [],
   "source": [
    "##Make an in Class"
   ]
  },
  {
   "cell_type": "code",
   "execution_count": 121,
   "id": "146b8519",
   "metadata": {},
   "outputs": [],
   "source": [
    "class SQLinput:\n",
    "    def __init__(self,name,value,transfare):\n",
    "        self.name = name\n",
    "        self.value = value\n",
    "        self.transfare = transfare"
   ]
  },
  {
   "cell_type": "code",
   "execution_count": 122,
   "id": "69e76e2f",
   "metadata": {},
   "outputs": [],
   "source": [
    "inst = SQLinput('DNK', 5.67, 6.21)"
   ]
  },
  {
   "cell_type": "code",
   "execution_count": 123,
   "id": "3a4da67d",
   "metadata": {},
   "outputs": [],
   "source": [
    "name,value,transfare = inst.name, inst.value, inst.transfare"
   ]
  },
  {
   "cell_type": "code",
   "execution_count": 124,
   "id": "9d6fe14d",
   "metadata": {},
   "outputs": [
    {
     "data": {
      "text/plain": [
       "<sqlite3.Cursor at 0x2f5d66f2ab0>"
      ]
     },
     "execution_count": 124,
     "metadata": {},
     "output_type": "execute_result"
    }
   ],
   "source": [
    "cursor.execute(\"INSERT INTO MONEY VALUES(?, ?,?)\", (name,value,transfare))"
   ]
  },
  {
   "cell_type": "code",
   "execution_count": 125,
   "id": "5f66b545",
   "metadata": {},
   "outputs": [
    {
     "data": {
      "text/plain": [
       "<sqlite3.Cursor at 0x2f5d66f2ab0>"
      ]
     },
     "execution_count": 125,
     "metadata": {},
     "output_type": "execute_result"
    }
   ],
   "source": [
    "cursor.execute(\"SELECT * FROM MONEY\")"
   ]
  },
  {
   "cell_type": "code",
   "execution_count": 126,
   "id": "b96b9abc",
   "metadata": {},
   "outputs": [],
   "source": [
    "connection.commit()"
   ]
  },
  {
   "cell_type": "code",
   "execution_count": 127,
   "id": "08eeae1d",
   "metadata": {},
   "outputs": [
    {
     "data": {
      "text/plain": [
       "[('USD', 1.83, 1.79),\n",
       " ('Euro', 1.65, 1.61),\n",
       " ('AUD', 0.65, 0.56),\n",
       " ('DBR', 3.65, 2.57),\n",
       " ('DNK', 5.67, 6.21),\n",
       " ('USD', 1.83, 1.79),\n",
       " ('Euro', 1.65, 1.61),\n",
       " ('AUD', 0.65, 0.56),\n",
       " ('DBR', 3.56, 2.65),\n",
       " ('DNK', 5.67, 6.21)]"
      ]
     },
     "execution_count": 127,
     "metadata": {},
     "output_type": "execute_result"
    }
   ],
   "source": [
    "cursor.fetchall()"
   ]
  },
  {
   "cell_type": "code",
   "execution_count": null,
   "id": "c3942652",
   "metadata": {},
   "outputs": [],
   "source": []
  },
  {
   "cell_type": "code",
   "execution_count": null,
   "id": "88a5cfb6",
   "metadata": {},
   "outputs": [],
   "source": []
  }
 ],
 "metadata": {
  "kernelspec": {
   "display_name": "Python 3 (ipykernel)",
   "language": "python",
   "name": "python3"
  },
  "language_info": {
   "codemirror_mode": {
    "name": "ipython",
    "version": 3
   },
   "file_extension": ".py",
   "mimetype": "text/x-python",
   "name": "python",
   "nbconvert_exporter": "python",
   "pygments_lexer": "ipython3",
   "version": "3.9.12"
  }
 },
 "nbformat": 4,
 "nbformat_minor": 5
}
